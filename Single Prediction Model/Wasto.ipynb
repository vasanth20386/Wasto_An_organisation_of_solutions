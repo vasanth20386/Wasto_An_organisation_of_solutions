{
  "nbformat": 4,
  "nbformat_minor": 0,
  "metadata": {
    "colab": {
      "provenance": [],
      "collapsed_sections": []
    },
    "kernelspec": {
      "name": "python3",
      "display_name": "Python 3"
    },
    "language_info": {
      "name": "python"
    }
  },
  "cells": [
    {
      "cell_type": "markdown",
      "source": [
        "# Requirements"
      ],
      "metadata": {
        "id": "bH2gULVB51ha"
      }
    },
    {
      "cell_type": "code",
      "execution_count": null,
      "metadata": {
        "id": "YROVKDoTUaJA"
      },
      "outputs": [],
      "source": [
        "import tensorflow as tf\n",
        "import numpy as np\n",
        "import matplotlib.pyplot as plt\n",
        "import random\n",
        "import math\n",
        "import os\n",
        "import cv2 as cv\n",
        "from sklearn.linear_model import LinearRegression\n",
        "from sklearn.preprocessing import PolynomialFeatures, StandardScaler, LabelEncoder\n",
        "from sklearn.model_selection import train_test_split"
      ]
    },
    {
      "cell_type": "markdown",
      "source": [
        "#Dataset Preprocessing"
      ],
      "metadata": {
        "id": "h5cm4QopVFY_"
      }
    },
    {
      "cell_type": "code",
      "source": [
        "!git clone https://github.com/devisri-charan/Wasto"
      ],
      "metadata": {
        "id": "PtDya8WyV_zg"
      },
      "execution_count": null,
      "outputs": []
    },
    {
      "cell_type": "code",
      "source": [
        "DIR = \"/content/Wasto/Dataset\"\n",
        "train_dataset = tf.keras.preprocessing.image_dataset_from_directory(DIR, validation_split=0.1, subset=\"training\", seed=42, batch_size=128, smart_resize=True, image_size=(256, 256))\n",
        "test_dataset = tf.keras.preprocessing.image_dataset_from_directory(DIR, validation_split=0.1, subset=\"validation\", seed=42, batch_size=128, smart_resize=True, image_size=(256, 256))\n",
        "\n",
        "classes = train_dataset.class_names\n",
        "numClasses = len(train_dataset.class_names)\n",
        "\n",
        "AUTOTUNE = tf.data.AUTOTUNE\n",
        "\n",
        "train_dataset = train_dataset.prefetch(buffer_size=AUTOTUNE)\n",
        "test_dataset = test_dataset.prefetch(buffer_size=AUTOTUNE)"
      ],
      "metadata": {
        "id": "WWQWpGI3Un4a"
      },
      "execution_count": null,
      "outputs": []
    },
    {
      "cell_type": "markdown",
      "source": [
        "#Training"
      ],
      "metadata": {
        "id": "wn1si1s2VMSD"
      }
    },
    {
      "cell_type": "code",
      "source": [
        "baseModel = tf.keras.applications.MobileNetV3Large(input_shape=(256, 256,3), weights='imagenet', include_top=False, classes=numClasses)\n",
        "for layers in baseModel.layers[:-6]:\n",
        "  layers.trainable=False\n",
        "\n",
        "last_output = baseModel.layers[-1].output\n",
        "x = tf.keras.layers.Dropout(0.45) (last_output)\n",
        "x = tf.keras.layers.GlobalAveragePooling2D()(x)\n",
        "x = tf.keras.layers.BatchNormalization() (x)\n",
        "x = tf.keras.layers.Dense(256, activation = tf.keras.activations.elu, kernel_regularizer=tf.keras.regularizers.l1(0.045), activity_regularizer=tf.keras.regularizers.l1(0.045),  kernel_initializer='he_normal')(x)\n",
        "x = tf.keras.layers.Dropout(0.45) (x)\n",
        "x = tf.keras.layers.Dense(numClasses, activation='softmax')(x)\n",
        "\n",
        "model = tf.keras.Model(inputs=baseModel.input,outputs=x)\n",
        "model.compile(optimizer=tf.keras.optimizers.Adam(learning_rate=0.00125), loss=tf.keras.losses.SparseCategoricalCrossentropy(from_logits=True), metrics=['accuracy'])\n",
        "\n",
        "epochs = 50\n",
        "lrCallback = tf.keras.callbacks.LearningRateScheduler(lambda epoch: 1e-3 * 10 ** (epoch / 30))\n",
        "stepDecay = tf.keras.callbacks.LearningRateScheduler(lambda epoch: 0.1 * 0.1**math.floor(epoch / 6))\n",
        "history = model.fit(train_dataset, validation_data=test_dataset, epochs=epochs, callbacks=[])"
      ],
      "metadata": {
        "colab": {
          "base_uri": "https://localhost:8080/"
        },
        "id": "BHR_Njs7UtbY",
        "outputId": "e0f77d8e-8e48-4978-82d2-d15e138a3f08"
      },
      "execution_count": null,
      "outputs": [
        {
          "output_type": "stream",
          "name": "stdout",
          "text": [
            "125/125 [==============================] - ETA: 0s - loss: 3.3472 - accuracy: 0.7459"
          ]
        }
      ]
    },
    {
      "cell_type": "markdown",
      "source": [
        "# Saving"
      ],
      "metadata": {
        "id": "F8dfi4iL5f1x"
      }
    },
    {
      "cell_type": "code",
      "source": [
        "model.save(\"/content/model.h5\")\n",
        "model.summary()"
      ],
      "metadata": {
        "id": "BM0c4ofuUwiR"
      },
      "execution_count": null,
      "outputs": []
    },
    {
      "cell_type": "code",
      "source": [
        "json_config = model.to_json()"
      ],
      "metadata": {
        "id": "cy72JCi4X6Ve"
      },
      "execution_count": null,
      "outputs": []
    },
    {
      "cell_type": "markdown",
      "source": [
        "#Evaluating"
      ],
      "metadata": {
        "id": "aQIGT4moUzyS"
      }
    },
    {
      "cell_type": "markdown",
      "source": [
        "#### Training Loss vs Testing Loss"
      ],
      "metadata": {
        "id": "m0daGrwQ5OAe"
      }
    },
    {
      "cell_type": "code",
      "source": [
        "plt.plot(range(0, epochs), history.history[\"loss\"], color=\"b\", label=\"Training Loss\")\n",
        "plt.plot(range(0, epochs), history.history[\"val_loss\"], color=\"r\", label=\"Testing Loss\")\n",
        "plt.legend()\n",
        "plt.show()"
      ],
      "metadata": {
        "id": "lydy2MYOU0O7"
      },
      "execution_count": null,
      "outputs": []
    },
    {
      "cell_type": "markdown",
      "source": [
        "#### Training Accuracy vs Test Accuracy"
      ],
      "metadata": {
        "id": "MmOIlQ9L5EI6"
      }
    },
    {
      "cell_type": "code",
      "source": [
        "plt.plot(range(0, epochs), history.history[\"accuracy\"], color=\"b\", label=\"Accuracy\")\n",
        "plt.plot(range(0, epochs), history.history[\"val_accuracy\"], color=\"r\", label=\"Test Accuracy\")\n",
        "plt.legend()\n",
        "plt.show()"
      ],
      "metadata": {
        "id": "fU0jigv_U2DE"
      },
      "execution_count": null,
      "outputs": []
    },
    {
      "cell_type": "markdown",
      "source": [
        "#### Learning rate vs Loss"
      ],
      "metadata": {
        "id": "rL1m-GyU4_ke"
      }
    },
    {
      "cell_type": "code",
      "source": [
        "plt.xlim([0, 0.003])\n",
        "learning_rates = 1e-3 * (10 ** (np.arange(epochs) / 30))\n",
        "plt.plot(learning_rates, history.history['loss'], lw=3, color='#17de8f')\n",
        "plt.title('Learning rate vs. loss', size=20)\n",
        "plt.xlabel('Learning rate', size=14)\n",
        "plt.ylabel('Loss', size=14)"
      ],
      "metadata": {
        "id": "GXP3kSJUU3g4"
      },
      "execution_count": null,
      "outputs": []
    },
    {
      "cell_type": "markdown",
      "source": [
        "#### Prediction"
      ],
      "metadata": {
        "id": "9RNdMpeW4evy"
      }
    },
    {
      "cell_type": "code",
      "source": [
        "import requests\n",
        "\n",
        "img_data = requests.get(\"https://images.unsplash.com/photo-1586041828039-b8d193d6d1dc?ixlib=rb-4.0.3&ixid=MnwxMjA3fDB8MHxwaG90by1wYWdlfHx8fGVufDB8fHx8&auto=format&fit=crop&w=687&q=80\").content\n",
        "with open('img.jpg', 'wb') as handler:\n",
        "    handler.write(img_data)\n",
        "\n",
        "path = \"/content/img.jpg\"\n",
        "\n",
        "img = tf.keras.preprocessing.image.load_img(path, target_size=(256, 256))\n",
        "img_array = tf.keras.preprocessing.image.img_to_array(img)\n",
        "img_array = tf.expand_dims(img_array, 0) \n",
        "\n",
        "predictions = model.predict(img_array)\n",
        "\n",
        "plt.imshow(img)\n",
        "print(\"Type of waste: \", classes[np.argmax(predictions)], f\"{predictions[0][np.argmax(predictions)]*100}%\")"
      ],
      "metadata": {
        "id": "nBnJrTWlU5d6"
      },
      "execution_count": null,
      "outputs": []
    },
    {
      "cell_type": "markdown",
      "source": [
        "#### Confusion Matrix"
      ],
      "metadata": {
        "id": "uPak530q46Os"
      }
    },
    {
      "cell_type": "code",
      "source": [
        "def plot_confusion_matrix(cm, target_names, cmap=None):\n",
        "    import matplotlib.pyplot as plt\n",
        "    import numpy as np\n",
        "    import itertools\n",
        "\n",
        "    accuracy = np.trace(cm) / float(np.sum(cm))\n",
        "    misclass = 1 - accuracy\n",
        "\n",
        "    if cmap is None:\n",
        "        cmap = plt.get_cmap('Blues')\n",
        "\n",
        "    plt.figure(figsize=(8, 6))\n",
        "    plt.imshow(cm, interpolation='nearest', cmap=cmap)\n",
        "    plt.title('Confusion matrix')\n",
        "    plt.colorbar()\n",
        "\n",
        "    if target_names is not None:\n",
        "        tick_marks = np.arange(len(target_names))\n",
        "        plt.xticks(tick_marks, target_names, rotation=45)\n",
        "        plt.yticks(tick_marks, target_names)\n",
        "\n",
        "    for i, j in itertools.product(range(cm.shape[0]), range(cm.shape[1])):\n",
        "            plt.text(j, i, \"{:,}\".format(cm[i, j]),\n",
        "                     horizontalalignment=\"center\",\n",
        "                     color=\"black\")\n",
        "\n",
        "    plt.tight_layout()\n",
        "    plt.ylabel('True label')\n",
        "    plt.xlabel('Predicted label\\naccuracy={:0.4f}%; misclass={:0.4f}%'.format(accuracy, misclass))\n",
        "    plt.show()\n",
        "\n",
        "plt.figure(figsize=(10, 10))\n",
        "true = []\n",
        "predictions = []\n",
        "\n",
        "path = \"/content/Wasto/Dataset\"\n",
        "for i in os.listdir(path):\n",
        "  folderPath = os.path.join(path, i)\n",
        "  for j in os.listdir(folderPath)[:550]:\n",
        "    fullPath = os.path.join(folderPath, j)\n",
        "    try:\n",
        "      img = tf.keras.preprocessing.image.load_img(fullPath, target_size=(256, 256))\n",
        "      img_array = tf.keras.preprocessing.image.img_to_array(img)\n",
        "      img_array = tf.expand_dims(img_array, 0) \n",
        "\n",
        "      preds = model.predict(img_array)\n",
        "      true.append(classes.index(i))\n",
        "      predictions.append(np.argmax(preds))\n",
        "    except:\n",
        "      print(\"Error on image:\", fullPath)\n",
        "\n",
        "plot_confusion_matrix(tf.math.confusion_matrix(true, predictions), classes)"
      ],
      "metadata": {
        "id": "bpx8QluQU-df"
      },
      "execution_count": null,
      "outputs": []
    }
  ]
}