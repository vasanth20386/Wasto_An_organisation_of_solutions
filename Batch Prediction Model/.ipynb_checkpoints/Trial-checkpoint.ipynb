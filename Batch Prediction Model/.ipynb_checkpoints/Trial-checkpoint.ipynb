{
 "cells": [
  {
   "cell_type": "code",
   "execution_count": 2,
   "id": "e1959fbd",
   "metadata": {},
   "outputs": [],
   "source": [
    "import tensorflow as tf\n",
    "import numpy as np\n",
    "import matplotlib.pyplot as plt\n",
    "import random\n",
    "import math\n",
    "import os\n",
    "import cv2 as cv\n",
    "from sklearn.linear_model import LinearRegression\n",
    "from sklearn.preprocessing import PolynomialFeatures, StandardScaler, LabelEncoder\n",
    "from sklearn.model_selection import train_test_split"
   ]
  },
  {
   "cell_type": "code",
   "execution_count": 6,
   "id": "300d5749",
   "metadata": {},
   "outputs": [
    {
     "name": "stdout",
     "output_type": "stream",
     "text": [
      "Found 2527 files belonging to 6 classes.\n",
      "Using 2275 files for training.\n",
      "Found 2527 files belonging to 6 classes.\n",
      "Using 252 files for validation.\n"
     ]
    }
   ],
   "source": [
    "DIR = \"C:\\\\Users\\\\Akhil\\\\micron\\\\trashnet-master\\\\data\\\\dataset-resized\\\\dataset-resized\"\n",
    "train_dataset = tf.keras.preprocessing.image_dataset_from_directory(DIR, validation_split=0.1, subset=\"training\", seed=42, batch_size=128, smart_resize=True, image_size=(256, 256))\n",
    "test_dataset = tf.keras.preprocessing.image_dataset_from_directory(DIR, validation_split=0.1, subset=\"validation\", seed=42, batch_size=128, smart_resize=True, image_size=(256, 256))"
   ]
  },
  {
   "cell_type": "code",
   "execution_count": 7,
   "id": "f92c1ad7",
   "metadata": {},
   "outputs": [
    {
     "name": "stdout",
     "output_type": "stream",
     "text": [
      "['cardboard', 'glass', 'metal', 'paper', 'plastic', 'trash']\n"
     ]
    }
   ],
   "source": [
    "classes = train_dataset.class_names\n",
    "numClasses = len(train_dataset.class_names)\n",
    "print(classes)\n",
    "AUTOTUNE = tf.data.AUTOTUNE\n",
    "\n",
    "train_dataset = train_dataset.prefetch(buffer_size=AUTOTUNE)\n",
    "test_dataset = test_dataset.prefetch(buffer_size=AUTOTUNE)"
   ]
  },
  {
   "cell_type": "code",
   "execution_count": 8,
   "id": "132b7abd",
   "metadata": {},
   "outputs": [
    {
     "name": "stdout",
     "output_type": "stream",
     "text": [
      "WARNING:tensorflow:`input_shape` is undefined or non-square, or `rows` is not 224. Weights for input shape (224, 224) will be loaded as the default.\n"
     ]
    }
   ],
   "source": [
    "baseModel = tf.keras.applications.MobileNetV3Large(input_shape=(256, 256,3), weights='imagenet', include_top=False, classes=numClasses)\n",
    "for layers in baseModel.layers[:-6]:\n",
    "  layers.trainable=False\n",
    "\n",
    "last_output = baseModel.layers[-1].output\n",
    "x = tf.keras.layers.Dropout(0.45) (last_output)\n",
    "x = tf.keras.layers.GlobalAveragePooling2D()(x)\n",
    "x = tf.keras.layers.BatchNormalization() (x)\n",
    "x = tf.keras.layers.Dense(256, activation = tf.keras.activations.elu, kernel_regularizer=tf.keras.regularizers.l1(0.045), activity_regularizer=tf.keras.regularizers.l1(0.045),  kernel_initializer='he_normal')(x)\n",
    "x = tf.keras.layers.Dropout(0.45) (x)\n",
    "x = tf.keras.layers.Dense(numClasses, activation='softmax')(x)\n",
    "\n",
    "model = tf.keras.Model(inputs=baseModel.input,outputs=x)"
   ]
  },
  {
   "cell_type": "code",
   "execution_count": 1,
   "id": "af35a14d",
   "metadata": {},
   "outputs": [
    {
     "ename": "NameError",
     "evalue": "name 'model' is not defined",
     "output_type": "error",
     "traceback": [
      "\u001b[1;31m---------------------------------------------------------------------------\u001b[0m",
      "\u001b[1;31mNameError\u001b[0m                                 Traceback (most recent call last)",
      "Cell \u001b[1;32mIn [1], line 1\u001b[0m\n\u001b[1;32m----> 1\u001b[0m \u001b[43mmodel\u001b[49m\u001b[38;5;241m.\u001b[39mcompile(optimizer\u001b[38;5;241m=\u001b[39mtf\u001b[38;5;241m.\u001b[39mkeras\u001b[38;5;241m.\u001b[39moptimizers\u001b[38;5;241m.\u001b[39mAdam(learning_rate\u001b[38;5;241m=\u001b[39m\u001b[38;5;241m0.00125\u001b[39m), loss\u001b[38;5;241m=\u001b[39mtf\u001b[38;5;241m.\u001b[39mkeras\u001b[38;5;241m.\u001b[39mlosses\u001b[38;5;241m.\u001b[39mSparseCategoricalCrossentropy(from_logits\u001b[38;5;241m=\u001b[39m\u001b[38;5;28;01mTrue\u001b[39;00m), metrics\u001b[38;5;241m=\u001b[39m[\u001b[38;5;124m'\u001b[39m\u001b[38;5;124maccuracy\u001b[39m\u001b[38;5;124m'\u001b[39m])\n\u001b[0;32m      3\u001b[0m epochs \u001b[38;5;241m=\u001b[39m \u001b[38;5;241m5\u001b[39m\n\u001b[0;32m      4\u001b[0m history \u001b[38;5;241m=\u001b[39m model\u001b[38;5;241m.\u001b[39mfit(train_dataset, validation_data\u001b[38;5;241m=\u001b[39mtest_dataset, epochs\u001b[38;5;241m=\u001b[39mepochs)\n",
      "\u001b[1;31mNameError\u001b[0m: name 'model' is not defined"
     ]
    }
   ],
   "source": [
    "model.compile(optimizer=tf.keras.optimizers.Adam(learning_rate=0.00125), loss=tf.keras.losses.SparseCategoricalCrossentropy(from_logits=True), metrics=['accuracy'])\n",
    "\n",
    "epochs = 5\n",
    "history = model.fit(train_dataset, validation_data=test_dataset, epochs=epochs)"
   ]
  },
  {
   "cell_type": "code",
   "execution_count": 84,
   "id": "db5c5c38",
   "metadata": {},
   "outputs": [
    {
     "name": "stdout",
     "output_type": "stream",
     "text": [
      "1/1 [==============================] - 0s 53ms/step\n"
     ]
    }
   ],
   "source": [
    "path = \"C:\\\\Users\\\\Akhil\\\\micron\\\\trashnet-master\\\\data\\\\dataset-resized\\\\dataset-resized\\\\plastic\\\\plastic57.jpg\"\n",
    "\n",
    "img = tf.keras.preprocessing.image.load_img(path, target_size=(256, 256))\n",
    "img_array = tf.keras.preprocessing.image.img_to_array(img)\n",
    "img_array = tf.expand_dims(img_array, 0) \n",
    "\n",
    "predictions = model.predict(img_array)"
   ]
  },
  {
   "cell_type": "code",
   "execution_count": 85,
   "id": "906540a2",
   "metadata": {},
   "outputs": [
    {
     "data": {
      "text/plain": [
       "array([[0.07351518, 0.2807482 , 0.12355193, 0.05938898, 0.37392473,\n",
       "        0.08887107]], dtype=float32)"
      ]
     },
     "execution_count": 85,
     "metadata": {},
     "output_type": "execute_result"
    }
   ],
   "source": [
    "predictions"
   ]
  },
  {
   "cell_type": "code",
   "execution_count": 86,
   "id": "9f722c0a",
   "metadata": {},
   "outputs": [
    {
     "name": "stdout",
     "output_type": "stream",
     "text": [
      "plastic\n"
     ]
    }
   ],
   "source": [
    "predictions\n",
    "predictions_arr=predictions.tolist()\n",
    "predictions_arr=predictions_arr[0]\n",
    "class_ind=(predictions_arr.index(max(predictions_arr)))\n",
    "print(classes[class_ind])"
   ]
  },
  {
   "cell_type": "markdown",
   "id": "50607d35",
   "metadata": {},
   "source": [
    "***Deploy***"
   ]
  },
  {
   "cell_type": "code",
   "execution_count": 1,
   "id": "62e03b14",
   "metadata": {},
   "outputs": [],
   "source": [
    "import gradio as gr"
   ]
  },
  {
   "cell_type": "code",
   "execution_count": 2,
   "id": "85fba720",
   "metadata": {},
   "outputs": [],
   "source": [
    "def greet_user(name):\n",
    "\treturn \"Hello \" + name + \" Welcome to Wasto!😎\""
   ]
  },
  {
   "cell_type": "code",
   "execution_count": 3,
   "id": "58f9e258",
   "metadata": {},
   "outputs": [
    {
     "ename": "NameError",
     "evalue": "name 'app' is not defined",
     "output_type": "error",
     "traceback": [
      "\u001b[1;31m---------------------------------------------------------------------------\u001b[0m",
      "\u001b[1;31mNameError\u001b[0m                                 Traceback (most recent call last)",
      "Cell \u001b[1;32mIn [3], line 3\u001b[0m\n\u001b[0;32m      1\u001b[0m \u001b[38;5;66;03m#app =  gr.Interface(fn = greet_user, inputs=\"text\", outputs=\"text\")\u001b[39;00m\n\u001b[0;32m      2\u001b[0m gr\u001b[38;5;241m.\u001b[39mImage()\n\u001b[1;32m----> 3\u001b[0m \u001b[43mapp\u001b[49m\u001b[38;5;241m.\u001b[39mlaunch()\n",
      "\u001b[1;31mNameError\u001b[0m: name 'app' is not defined"
     ]
    }
   ],
   "source": [
    "#app =  gr.Interface(fn = greet_user, inputs=\"text\", outputs=\"text\")\n",
    "gr.Image()\n",
    "app.launch()"
   ]
  },
  {
   "cell_type": "code",
   "execution_count": 4,
   "id": "53e14202",
   "metadata": {
    "collapsed": true
   },
   "outputs": [
    {
     "name": "stdout",
     "output_type": "stream",
     "text": [
      "Running on local URL:  http://127.0.0.1:7860\n",
      "\n",
      "To create a public link, set `share=True` in `launch()`.\n"
     ]
    },
    {
     "data": {
      "text/html": [
       "<div><iframe src=\"http://127.0.0.1:7860/\" width=\"900\" height=\"500\" allow=\"autoplay; camera; microphone; clipboard-read; clipboard-write;\" frameborder=\"0\" allowfullscreen></iframe></div>"
      ],
      "text/plain": [
       "<IPython.core.display.HTML object>"
      ]
     },
     "metadata": {},
     "output_type": "display_data"
    },
    {
     "data": {
      "text/plain": [
       "(<gradio.routes.App at 0x1ca5be831c0>, 'http://127.0.0.1:7860/', None)"
      ]
     },
     "execution_count": 4,
     "metadata": {},
     "output_type": "execute_result"
    },
    {
     "name": "stderr",
     "output_type": "stream",
     "text": [
      "Traceback (most recent call last):\n",
      "  File \"C:\\ProgramData\\Anaconda3\\lib\\site-packages\\gradio\\routes.py\", line 298, in run_predict\n",
      "    output = await app.blocks.process_api(\n",
      "  File \"C:\\ProgramData\\Anaconda3\\lib\\site-packages\\gradio\\blocks.py\", line 790, in process_api\n",
      "    result = await self.call_function(fn_index, inputs, iterator)\n",
      "  File \"C:\\ProgramData\\Anaconda3\\lib\\site-packages\\gradio\\blocks.py\", line 697, in call_function\n",
      "    prediction = await anyio.to_thread.run_sync(\n",
      "  File \"C:\\ProgramData\\Anaconda3\\lib\\site-packages\\anyio\\to_thread.py\", line 31, in run_sync\n",
      "    return await get_asynclib().run_sync_in_worker_thread(\n",
      "  File \"C:\\ProgramData\\Anaconda3\\lib\\site-packages\\anyio\\_backends\\_asyncio.py\", line 937, in run_sync_in_worker_thread\n",
      "    return await future\n",
      "  File \"C:\\ProgramData\\Anaconda3\\lib\\site-packages\\anyio\\_backends\\_asyncio.py\", line 867, in run\n",
      "    result = context.run(func, *args)\n",
      "  File \"C:\\Users\\Akhil\\AppData\\Local\\Temp\\ipykernel_2840\\3232751452.py\", line 3, in predict\n",
      "    img = tf.keras.preprocessing.image.load_img(path, target_size=(256, 256))\n",
      "NameError: name 'tf' is not defined\n",
      "Traceback (most recent call last):\n",
      "  File \"C:\\ProgramData\\Anaconda3\\lib\\site-packages\\gradio\\routes.py\", line 298, in run_predict\n",
      "    output = await app.blocks.process_api(\n",
      "  File \"C:\\ProgramData\\Anaconda3\\lib\\site-packages\\gradio\\blocks.py\", line 790, in process_api\n",
      "    result = await self.call_function(fn_index, inputs, iterator)\n",
      "  File \"C:\\ProgramData\\Anaconda3\\lib\\site-packages\\gradio\\blocks.py\", line 697, in call_function\n",
      "    prediction = await anyio.to_thread.run_sync(\n",
      "  File \"C:\\ProgramData\\Anaconda3\\lib\\site-packages\\anyio\\to_thread.py\", line 31, in run_sync\n",
      "    return await get_asynclib().run_sync_in_worker_thread(\n",
      "  File \"C:\\ProgramData\\Anaconda3\\lib\\site-packages\\anyio\\_backends\\_asyncio.py\", line 937, in run_sync_in_worker_thread\n",
      "    return await future\n",
      "  File \"C:\\ProgramData\\Anaconda3\\lib\\site-packages\\anyio\\_backends\\_asyncio.py\", line 867, in run\n",
      "    result = context.run(func, *args)\n",
      "  File \"C:\\Users\\Akhil\\AppData\\Local\\Temp\\ipykernel_2840\\3232751452.py\", line 3, in predict\n",
      "    img = tf.keras.preprocessing.image.load_img(path, target_size=(256, 256))\n",
      "NameError: name 'tf' is not defined\n",
      "Traceback (most recent call last):\n",
      "  File \"C:\\ProgramData\\Anaconda3\\lib\\site-packages\\gradio\\routes.py\", line 298, in run_predict\n",
      "    output = await app.blocks.process_api(\n",
      "  File \"C:\\ProgramData\\Anaconda3\\lib\\site-packages\\gradio\\blocks.py\", line 790, in process_api\n",
      "    result = await self.call_function(fn_index, inputs, iterator)\n",
      "  File \"C:\\ProgramData\\Anaconda3\\lib\\site-packages\\gradio\\blocks.py\", line 697, in call_function\n",
      "    prediction = await anyio.to_thread.run_sync(\n",
      "  File \"C:\\ProgramData\\Anaconda3\\lib\\site-packages\\anyio\\to_thread.py\", line 31, in run_sync\n",
      "    return await get_asynclib().run_sync_in_worker_thread(\n",
      "  File \"C:\\ProgramData\\Anaconda3\\lib\\site-packages\\anyio\\_backends\\_asyncio.py\", line 937, in run_sync_in_worker_thread\n",
      "    return await future\n",
      "  File \"C:\\ProgramData\\Anaconda3\\lib\\site-packages\\anyio\\_backends\\_asyncio.py\", line 867, in run\n",
      "    result = context.run(func, *args)\n",
      "  File \"C:\\Users\\Akhil\\AppData\\Local\\Temp\\ipykernel_2840\\3232751452.py\", line 3, in predict\n",
      "    img = tf.keras.preprocessing.image.load_img(path, target_size=(256, 256))\n",
      "NameError: name 'tf' is not defined\n"
     ]
    }
   ],
   "source": [
    "def predict(path):\n",
    "    path=\"C:\\\\Users\\\\Akhil\\\\micron\\\\trashnet-master\\\\data\\\\dataset-resized\\\\dataset-resized\\\\plastic\\\\plastic57.jpg\"\n",
    "    img = tf.keras.preprocessing.image.load_img(path, target_size=(256, 256))\n",
    "    img_array = tf.keras.preprocessing.image.img_to_array(img)\n",
    "    img_array = tf.expand_dims(img_array, 0) \n",
    "    predictions = model.predict(img_array)\n",
    "    predictions_arr=predictions.tolist()\n",
    "    predictions_arr=predictions_arr[0]\n",
    "    class_ind=(predictions_arr.index(max(predictions_arr)))\n",
    "    return (classes[class_ind])\n",
    "\n",
    "gr.Interface(fn=predict, inputs=gr.Image(type=\"pil\"),outputs=gr.Label(num_top_classes=3),examples=[\"plastic.jpg\", \"wood.jpg\"]).launch()"
   ]
  },
  {
   "cell_type": "code",
   "execution_count": null,
   "id": "245327f3",
   "metadata": {},
   "outputs": [],
   "source": []
  }
 ],
 "metadata": {
  "kernelspec": {
   "display_name": "Python 3 (ipykernel)",
   "language": "python",
   "name": "python3"
  },
  "language_info": {
   "codemirror_mode": {
    "name": "ipython",
    "version": 3
   },
   "file_extension": ".py",
   "mimetype": "text/x-python",
   "name": "python",
   "nbconvert_exporter": "python",
   "pygments_lexer": "ipython3",
   "version": "3.8.5"
  }
 },
 "nbformat": 4,
 "nbformat_minor": 5
}
