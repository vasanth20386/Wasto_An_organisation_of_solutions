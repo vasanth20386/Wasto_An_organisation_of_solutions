{
 "cells": [
  {
   "cell_type": "code",
   "execution_count": 114,
   "id": "8e309a62",
   "metadata": {},
   "outputs": [],
   "source": [
    "import tensorflow as tf\n",
    "import numpy as np\n",
    "import matplotlib.pyplot as plt\n",
    "import random\n",
    "import math\n",
    "import os\n",
    "import cv2 as cv\n",
    "from sklearn.linear_model import LinearRegression\n",
    "from sklearn.preprocessing import PolynomialFeatures, StandardScaler, LabelEncoder\n",
    "from sklearn.model_selection import train_test_split\n",
    "import gradio as gr"
   ]
  },
  {
   "cell_type": "code",
   "execution_count": 115,
   "id": "9e19a267",
   "metadata": {},
   "outputs": [
    {
     "name": "stdout",
     "output_type": "stream",
     "text": [
      "Found 2562 files belonging to 7 classes.\n",
      "Using 2306 files for training.\n",
      "Found 2562 files belonging to 7 classes.\n",
      "Using 256 files for validation.\n"
     ]
    }
   ],
   "source": [
    "DIR = \"C:\\\\Users\\\\Akhil\\\\micron\\\\trashnet-master\\\\data\\\\dataset-resized\\\\dataset-resized\"\n",
    "train_dataset = tf.keras.preprocessing.image_dataset_from_directory(DIR, validation_split=0.1, subset=\"training\", seed=42, batch_size=128, smart_resize=True, image_size=(256, 256))\n",
    "test_dataset = tf.keras.preprocessing.image_dataset_from_directory(DIR, validation_split=0.1, subset=\"validation\", seed=42, batch_size=128, smart_resize=True, image_size=(256, 256))"
   ]
  },
  {
   "cell_type": "code",
   "execution_count": 116,
   "id": "1203be98",
   "metadata": {},
   "outputs": [
    {
     "name": "stdout",
     "output_type": "stream",
     "text": [
      "['bulk_trial', 'cardboard', 'glass', 'metal', 'paper', 'plastic', 'trash']\n"
     ]
    }
   ],
   "source": [
    "classes = train_dataset.class_names\n",
    "numClasses = len(train_dataset.class_names)\n",
    "print(classes)\n",
    "AUTOTUNE = tf.data.AUTOTUNE\n",
    "\n",
    "train_dataset = train_dataset.prefetch(buffer_size=AUTOTUNE)\n",
    "test_dataset = test_dataset.prefetch(buffer_size=AUTOTUNE)"
   ]
  },
  {
   "cell_type": "code",
   "execution_count": 117,
   "id": "632af78c",
   "metadata": {},
   "outputs": [
    {
     "name": "stdout",
     "output_type": "stream",
     "text": [
      "WARNING:tensorflow:`input_shape` is undefined or non-square, or `rows` is not 224. Weights for input shape (224, 224) will be loaded as the default.\n"
     ]
    },
    {
     "name": "stderr",
     "output_type": "stream",
     "text": [
      "WARNING:tensorflow:`input_shape` is undefined or non-square, or `rows` is not 224. Weights for input shape (224, 224) will be loaded as the default.\n"
     ]
    }
   ],
   "source": [
    "baseModel = tf.keras.applications.MobileNetV3Large(input_shape=(256, 256,3), weights='imagenet', include_top=False, classes=numClasses)\n",
    "for layers in baseModel.layers[:-6]:\n",
    "  layers.trainable=False\n",
    "\n",
    "last_output = baseModel.layers[-1].output\n",
    "x = tf.keras.layers.Dropout(0.45) (last_output)\n",
    "x = tf.keras.layers.GlobalAveragePooling2D()(x)\n",
    "x = tf.keras.layers.BatchNormalization() (x)\n",
    "x = tf.keras.layers.Dense(256, activation = tf.keras.activations.elu, kernel_regularizer=tf.keras.regularizers.l1(0.045), activity_regularizer=tf.keras.regularizers.l1(0.045),  kernel_initializer='he_normal')(x)\n",
    "x = tf.keras.layers.Dropout(0.45) (x)\n",
    "x = tf.keras.layers.Dense(numClasses, activation='softmax')(x)\n",
    "\n",
    "model = tf.keras.Model(inputs=baseModel.input,outputs=x)"
   ]
  },
  {
   "cell_type": "code",
   "execution_count": 118,
   "id": "15cbd619",
   "metadata": {},
   "outputs": [
    {
     "name": "stdout",
     "output_type": "stream",
     "text": [
      "Epoch 1/50\n"
     ]
    },
    {
     "name": "stderr",
     "output_type": "stream",
     "text": [
      "C:\\ProgramData\\Anaconda3\\lib\\site-packages\\keras\\backend.py:5582: UserWarning: \"`sparse_categorical_crossentropy` received `from_logits=True`, but the `output` argument was produced by a Softmax activation and thus does not represent logits. Was this intended?\n",
      "  output, from_logits = _get_logits(\n"
     ]
    },
    {
     "name": "stdout",
     "output_type": "stream",
     "text": [
      "19/19 [==============================] - 120s 6s/step - loss: 322.9219 - accuracy: 0.4545 - val_loss: 215.8448 - val_accuracy: 0.7266\n",
      "Epoch 2/50\n",
      "19/19 [==============================] - 115s 6s/step - loss: 156.4590 - accuracy: 0.7541 - val_loss: 95.8393 - val_accuracy: 0.7617\n",
      "Epoch 3/50\n",
      "19/19 [==============================] - 112s 6s/step - loss: 63.7691 - accuracy: 0.8057 - val_loss: 33.6747 - val_accuracy: 0.7812\n",
      "Epoch 4/50\n",
      "19/19 [==============================] - 114s 6s/step - loss: 20.4817 - accuracy: 0.8122 - val_loss: 9.9821 - val_accuracy: 0.7695\n",
      "Epoch 5/50\n",
      "19/19 [==============================] - 115s 6s/step - loss: 7.3173 - accuracy: 0.7715 - val_loss: 5.6196 - val_accuracy: 0.6172\n",
      "Epoch 6/50\n",
      "19/19 [==============================] - 116s 6s/step - loss: 5.0035 - accuracy: 0.6925 - val_loss: 4.9642 - val_accuracy: 0.6367\n",
      "Epoch 7/50\n",
      "19/19 [==============================] - 115s 6s/step - loss: 4.8461 - accuracy: 0.7212 - val_loss: 4.7148 - val_accuracy: 0.6445\n",
      "Epoch 8/50\n",
      "19/19 [==============================] - 120s 6s/step - loss: 4.5386 - accuracy: 0.7056 - val_loss: 4.3960 - val_accuracy: 0.6875\n",
      "Epoch 9/50\n",
      "19/19 [==============================] - 118s 6s/step - loss: 4.2483 - accuracy: 0.7524 - val_loss: 4.4280 - val_accuracy: 0.5898\n",
      "Epoch 10/50\n",
      "19/19 [==============================] - 117s 6s/step - loss: 4.3187 - accuracy: 0.7160 - val_loss: 4.3170 - val_accuracy: 0.6367\n",
      "Epoch 11/50\n",
      "19/19 [==============================] - 121s 6s/step - loss: 4.1778 - accuracy: 0.7147 - val_loss: 4.3779 - val_accuracy: 0.6445\n",
      "Epoch 12/50\n",
      "19/19 [==============================] - 136s 7s/step - loss: 4.2607 - accuracy: 0.7428 - val_loss: 4.7221 - val_accuracy: 0.5625\n",
      "Epoch 13/50\n",
      "19/19 [==============================] - 125s 6s/step - loss: 4.5793 - accuracy: 0.7199 - val_loss: 4.4538 - val_accuracy: 0.7148\n",
      "Epoch 14/50\n",
      "19/19 [==============================] - 161s 8s/step - loss: 4.2916 - accuracy: 0.7593 - val_loss: 4.4946 - val_accuracy: 0.6758\n",
      "Epoch 15/50\n",
      "19/19 [==============================] - 132s 7s/step - loss: 4.4226 - accuracy: 0.7849 - val_loss: 4.6205 - val_accuracy: 0.7383\n",
      "Epoch 16/50\n",
      "19/19 [==============================] - 120s 6s/step - loss: 4.6362 - accuracy: 0.8066 - val_loss: 4.6288 - val_accuracy: 0.7266\n",
      "Epoch 17/50\n",
      "19/19 [==============================] - 121s 6s/step - loss: 4.6529 - accuracy: 0.8001 - val_loss: 4.5731 - val_accuracy: 0.6445\n",
      "Epoch 18/50\n",
      "19/19 [==============================] - 120s 6s/step - loss: 4.4436 - accuracy: 0.7871 - val_loss: 4.4425 - val_accuracy: 0.7227\n",
      "Epoch 19/50\n",
      "19/19 [==============================] - 122s 6s/step - loss: 4.4551 - accuracy: 0.8166 - val_loss: 4.6849 - val_accuracy: 0.7305\n",
      "Epoch 20/50\n",
      "19/19 [==============================] - 122s 6s/step - loss: 4.8354 - accuracy: 0.8092 - val_loss: 4.3997 - val_accuracy: 0.7539\n",
      "Epoch 21/50\n",
      "19/19 [==============================] - 123s 6s/step - loss: 4.3365 - accuracy: 0.8226 - val_loss: 4.2718 - val_accuracy: 0.7383\n",
      "Epoch 22/50\n",
      "19/19 [==============================] - 123s 6s/step - loss: 4.1309 - accuracy: 0.8135 - val_loss: 4.4918 - val_accuracy: 0.7852\n",
      "Epoch 23/50\n",
      "19/19 [==============================] - 121s 6s/step - loss: 4.6378 - accuracy: 0.8231 - val_loss: 4.1068 - val_accuracy: 0.7344\n",
      "Epoch 24/50\n",
      "19/19 [==============================] - 126s 7s/step - loss: 3.7975 - accuracy: 0.8343 - val_loss: 4.0901 - val_accuracy: 0.7539\n",
      "Epoch 25/50\n",
      "19/19 [==============================] - 124s 6s/step - loss: 4.0551 - accuracy: 0.8348 - val_loss: 4.6682 - val_accuracy: 0.6992\n",
      "Epoch 26/50\n",
      "19/19 [==============================] - 125s 7s/step - loss: 4.6086 - accuracy: 0.8187 - val_loss: 4.7011 - val_accuracy: 0.7344\n",
      "Epoch 27/50\n",
      "19/19 [==============================] - 138s 7s/step - loss: 4.5933 - accuracy: 0.8356 - val_loss: 4.7372 - val_accuracy: 0.7500\n",
      "Epoch 28/50\n",
      "19/19 [==============================] - 141s 7s/step - loss: 4.9537 - accuracy: 0.8196 - val_loss: 4.8832 - val_accuracy: 0.7500\n",
      "Epoch 29/50\n",
      "19/19 [==============================] - 130s 7s/step - loss: 4.9560 - accuracy: 0.8435 - val_loss: 4.6888 - val_accuracy: 0.8008\n",
      "Epoch 30/50\n",
      "19/19 [==============================] - 129s 7s/step - loss: 4.6634 - accuracy: 0.8474 - val_loss: 4.4986 - val_accuracy: 0.7930\n",
      "Epoch 31/50\n",
      "19/19 [==============================] - 128s 7s/step - loss: 4.7517 - accuracy: 0.8439 - val_loss: 5.4538 - val_accuracy: 0.7070\n",
      "Epoch 32/50\n",
      "19/19 [==============================] - 130s 7s/step - loss: 5.9703 - accuracy: 0.8187 - val_loss: 4.5859 - val_accuracy: 0.7969\n",
      "Epoch 33/50\n",
      "19/19 [==============================] - 130s 7s/step - loss: 4.1100 - accuracy: 0.8651 - val_loss: 4.4225 - val_accuracy: 0.7656\n",
      "Epoch 34/50\n",
      "19/19 [==============================] - 1407s 78s/step - loss: 4.4696 - accuracy: 0.8408 - val_loss: 4.2650 - val_accuracy: 0.8164\n",
      "Epoch 35/50\n",
      "19/19 [==============================] - 109s 6s/step - loss: 4.3540 - accuracy: 0.8612 - val_loss: 4.3817 - val_accuracy: 0.8086\n",
      "Epoch 36/50\n",
      "19/19 [==============================] - 122s 6s/step - loss: 4.3753 - accuracy: 0.8543 - val_loss: 4.6239 - val_accuracy: 0.8164\n",
      "Epoch 37/50\n",
      "19/19 [==============================] - 128s 7s/step - loss: 5.2822 - accuracy: 0.8547 - val_loss: 4.8571 - val_accuracy: 0.8008\n",
      "Epoch 38/50\n",
      "19/19 [==============================] - 134s 7s/step - loss: 4.6487 - accuracy: 0.8547 - val_loss: 4.3922 - val_accuracy: 0.8203\n",
      "Epoch 39/50\n",
      "19/19 [==============================] - 134s 7s/step - loss: 4.4523 - accuracy: 0.8651 - val_loss: 4.4343 - val_accuracy: 0.8203\n",
      "Epoch 40/50\n",
      "19/19 [==============================] - 136s 7s/step - loss: 4.9017 - accuracy: 0.8608 - val_loss: 4.9953 - val_accuracy: 0.8047\n",
      "Epoch 41/50\n",
      "19/19 [==============================] - 135s 7s/step - loss: 5.3669 - accuracy: 0.8526 - val_loss: 4.7938 - val_accuracy: 0.8164\n",
      "Epoch 42/50\n",
      "19/19 [==============================] - 136s 7s/step - loss: 4.8382 - accuracy: 0.8656 - val_loss: 5.1806 - val_accuracy: 0.7852\n",
      "Epoch 43/50\n",
      "19/19 [==============================] - 135s 7s/step - loss: 5.7507 - accuracy: 0.8664 - val_loss: 4.5171 - val_accuracy: 0.8203\n",
      "Epoch 44/50\n",
      "19/19 [==============================] - 137s 7s/step - loss: 4.0722 - accuracy: 0.8608 - val_loss: 4.1679 - val_accuracy: 0.8008\n",
      "Epoch 45/50\n",
      "19/19 [==============================] - 136s 7s/step - loss: 4.4323 - accuracy: 0.8669 - val_loss: 4.2265 - val_accuracy: 0.8164\n",
      "Epoch 46/50\n",
      "19/19 [==============================] - 136s 7s/step - loss: 4.2223 - accuracy: 0.8786 - val_loss: 5.2262 - val_accuracy: 0.6914\n",
      "Epoch 47/50\n",
      "19/19 [==============================] - 137s 7s/step - loss: 5.8674 - accuracy: 0.8339 - val_loss: 5.0653 - val_accuracy: 0.8164\n",
      "Epoch 48/50\n",
      "19/19 [==============================] - 137s 7s/step - loss: 5.0923 - accuracy: 0.8781 - val_loss: 5.3231 - val_accuracy: 0.7344\n",
      "Epoch 49/50\n",
      "19/19 [==============================] - 136s 7s/step - loss: 6.2349 - accuracy: 0.8343 - val_loss: 5.0757 - val_accuracy: 0.8320\n",
      "Epoch 50/50\n",
      "19/19 [==============================] - 137s 7s/step - loss: 4.8707 - accuracy: 0.8816 - val_loss: 4.4830 - val_accuracy: 0.8359\n"
     ]
    }
   ],
   "source": [
    "model.compile(optimizer=tf.keras.optimizers.Adam(learning_rate=0.00125), loss=tf.keras.losses.SparseCategoricalCrossentropy(from_logits=True), metrics=['accuracy'])\n",
    "\n",
    "epochs = 50\n",
    "history = model.fit(train_dataset, validation_data=test_dataset, epochs=epochs)"
   ]
  },
  {
   "cell_type": "code",
   "execution_count": 154,
   "id": "62cfbc24",
   "metadata": {},
   "outputs": [],
   "source": [
    "model.save(\"/content/model.h5\")"
   ]
  },
  {
   "cell_type": "code",
   "execution_count": 119,
   "id": "e5df920d",
   "metadata": {},
   "outputs": [],
   "source": [
    "dump=[]"
   ]
  },
  {
   "cell_type": "code",
   "execution_count": 140,
   "id": "8fe11047",
   "metadata": {},
   "outputs": [],
   "source": [
    "path = \"C:\\\\Users\\\\Akhil\\\\micron\\\\trashnet-master\\\\data\\\\dataset-resized\\\\dataset-resized\\\\metal\\\\metal30.jpg\"\n",
    "\n",
    "def predict(input_image):\n",
    "    img_array = tf.keras.preprocessing.image.img_to_array(input_image)\n",
    "    img_array = tf.expand_dims(img_array, 0) \n",
    "    predictions = model.predict(img_array)\n",
    "    predictions_arr=predictions.tolist()\n",
    "    predictions_arr=predictions_arr[0]\n",
    "    class_ind=(predictions_arr.index(max(predictions_arr)))\n",
    "    dump.append(classes[class_ind])\n",
    "    if classes[class_ind]==\"plastic\":\n",
    "        return (classes[class_ind]),\"It is Non-Biodegradable\"\n",
    "    else:\n",
    "        return (classes[class_ind]),\"It is Biodegradable\""
   ]
  },
  {
   "cell_type": "code",
   "execution_count": 141,
   "id": "447202e4",
   "metadata": {},
   "outputs": [
    {
     "name": "stdout",
     "output_type": "stream",
     "text": [
      "Running on local URL:  http://127.0.0.1:7894\n",
      "\n",
      "To create a public link, set `share=True` in `launch()`.\n"
     ]
    },
    {
     "data": {
      "text/html": [
       "<div><iframe src=\"http://127.0.0.1:7894/\" width=\"900\" height=\"500\" allow=\"autoplay; camera; microphone; clipboard-read; clipboard-write;\" frameborder=\"0\" allowfullscreen></iframe></div>"
      ],
      "text/plain": [
       "<IPython.core.display.HTML object>"
      ]
     },
     "metadata": {},
     "output_type": "display_data"
    },
    {
     "data": {
      "text/plain": [
       "(<gradio.routes.App at 0x2006c5d9940>, 'http://127.0.0.1:7894/', None)"
      ]
     },
     "execution_count": 141,
     "metadata": {},
     "output_type": "execute_result"
    },
    {
     "name": "stdout",
     "output_type": "stream",
     "text": [
      "1/1 [==============================] - 0s 151ms/step\n"
     ]
    }
   ],
   "source": [
    "demo = gr.Interface(predict, gr.Image(shape=(256, 256)), outputs=[\"text\", \"text\"],examples=[\"plastic.jpg\", \"paper.jpg\",\"glass.jpg\"])\n",
    "demo.launch()"
   ]
  },
  {
   "cell_type": "code",
   "execution_count": 122,
   "id": "51c72a51",
   "metadata": {
    "scrolled": true
   },
   "outputs": [
    {
     "name": "stdout",
     "output_type": "stream",
     "text": [
      "Percentage of Non-Biodegradable waste: 14.29%\n",
      "Percentage of Biodegradable waste    : 85.71%\n"
     ]
    }
   ],
   "source": [
    "total=len(dump)\n",
    "non_deg=0\n",
    "deg=0\n",
    "for i in dump:\n",
    "    if (i=='plastic'):\n",
    "        non_deg+=1\n",
    "    else:\n",
    "        deg+=1\n",
    "non_deg_per=((non_deg)/total)*100\n",
    "deg_per=((deg)/total)*100\n",
    "non_deg_per=round(non_deg_per,2)\n",
    "deg_per=round(deg_per,2)\n",
    "print(f'Percentage of Non-Biodegradable waste: {non_deg_per}%')\n",
    "print(f'Percentage of Biodegradable waste    : {deg_per}%')"
   ]
  },
  {
   "cell_type": "code",
   "execution_count": 170,
   "id": "c53646e8",
   "metadata": {},
   "outputs": [],
   "source": [
    "import matplotlib.pyplot as plt"
   ]
  },
  {
   "cell_type": "code",
   "execution_count": 186,
   "id": "5ed648a0",
   "metadata": {
    "collapsed": true
   },
   "outputs": [
    {
     "data": {
      "image/png": "[encoded data removed]",
      "text/plain": [
       "<Figure size 640x480 with 1 Axes>"
      ]
     },
     "metadata": {},
     "output_type": "display_data"
    }
   ],
   "source": [
    "def predict_bulk(folder_path):\n",
    "    dump_bulk=[]\n",
    "    ret=[]\n",
    "    files=os.listdir(folder_path)\n",
    "    for i in files:\n",
    "        file_path=folder_path+\"\\\\\"+i\n",
    "        img = tf.keras.preprocessing.image.load_img(file_path, target_size=(256, 256))\n",
    "        img_array = tf.keras.preprocessing.image.img_to_array(img)\n",
    "        img_array = tf.expand_dims(img_array, 0) \n",
    "        predictions = model.predict(img_array)\n",
    "        predictions_arr=predictions.tolist()\n",
    "        predictions_arr=predictions_arr[0]\n",
    "        class_ind=(predictions_arr.index(max(predictions_arr)))\n",
    "        dump_bulk.append(classes[class_ind])\n",
    "    total=len(dump_bulk)\n",
    "    non_deg=0\n",
    "    deg=0\n",
    "    for i in dump_bulk:\n",
    "        if (i=='plastic'):\n",
    "            non_deg+=1\n",
    "        else:\n",
    "            deg+=1\n",
    "    non_deg_per=((non_deg)/total)*100\n",
    "    deg_per=((deg)/total)*100\n",
    "    non_deg_per=round(non_deg_per,2)\n",
    "    deg_per=round(deg_per,2)\n",
    "    repeats=[[x,dump_bulk.count(x)] for x in set(dump_bulk)]\n",
    "    ret.append(f'Percentage of Non-Biodegradable waste: {non_deg_per}%')\n",
    "    ret.append(f'Percentage of Biodegradable waste    : {deg_per}%')\n",
    "    temp=\"\"\n",
    "    repeat_keys=[]\n",
    "    repeat_values=[]\n",
    "    deg_keys=['Biodegradable','Non-Biodegradable']\n",
    "    deg_values=[deg_per,non_deg_per]\n",
    "    for i in range(len(repeats)):\n",
    "        temp+=f'Number of {repeats[i][0]} materials: {repeats[i][1]}' +\"\\n\"\n",
    "        repeat_keys.append(repeats[i][0])\n",
    "        repeat_values.append(repeats[i][1])\n",
    "    #et.append(dump_bulk)\n",
    "    plt.clf()\n",
    "    plt.pie(repeat_values, labels=repeat_keys)\n",
    "    plt.savefig('types_pie_chart.png')\n",
    "    plt.clf()\n",
    "    plt.pie(deg_values, labels=deg_keys)\n",
    "    plt.savefig('deg_pie_chart.png')\n",
    "    return ret[0],ret[1],temp,'types_pie_chart.png','deg_pie_chart.png'\n",
    "    "
   ]
  },
  {
   "cell_type": "code",
   "execution_count": null,
   "id": "5f5e05a2",
   "metadata": {},
   "outputs": [],
   "source": [
    "\"\"\"\n",
    "C:\\\\Users\\\\Akhil\\\\micron\\\\trashnet-master\\\\data\\\\dataset-resized\\\\dataset-resized\\\\bulk_trial\n",
    "\"\"\""
   ]
  },
  {
   "cell_type": "code",
   "execution_count": 194,
   "id": "dccad80c",
   "metadata": {},
   "outputs": [
    {
     "name": "stdout",
     "output_type": "stream",
     "text": [
      "Running on local URL:  http://127.0.0.1:7917\n",
      "Running on public URL: https://0d32cd88db9e63f5.gradio.app\n",
      "\n",
      "This share link expires in 72 hours. For free permanent hosting and GPU upgrades (NEW!), check out Spaces: https://huggingface.co/spaces\n"
     ]
    },
    {
     "data": {
      "text/html": [
       "<div><iframe src=\"https://0d32cd88db9e63f5.gradio.app\" width=\"900\" height=\"500\" allow=\"autoplay; camera; microphone; clipboard-read; clipboard-write;\" frameborder=\"0\" allowfullscreen></iframe></div>"
      ],
      "text/plain": [
       "<IPython.core.display.HTML object>"
      ]
     },
     "metadata": {},
     "output_type": "display_data"
    },
    {
     "data": {
      "text/plain": [
       "(<gradio.routes.App at 0x2006bc45af0>,\n",
       " 'http://127.0.0.1:7917/',\n",
       " 'https://0d32cd88db9e63f5.gradio.app')"
      ]
     },
     "execution_count": 194,
     "metadata": {},
     "output_type": "execute_result"
    },
    {
     "name": "stdout",
     "output_type": "stream",
     "text": [
      "1/1 [==============================] - 1s 579ms/step\n",
      "1/1 [==============================] - 0s 193ms/step\n",
      "1/1 [==============================] - 0s 145ms/step\n",
      "1/1 [==============================] - 0s 145ms/step\n",
      "1/1 [==============================] - 0s 148ms/step\n",
      "1/1 [==============================] - 0s 133ms/step\n",
      "1/1 [==============================] - 0s 150ms/step\n",
      "1/1 [==============================] - 0s 149ms/step\n",
      "1/1 [==============================] - 0s 147ms/step\n",
      "1/1 [==============================] - 0s 131ms/step\n",
      "1/1 [==============================] - 0s 139ms/step\n",
      "1/1 [==============================] - 0s 142ms/step\n",
      "1/1 [==============================] - 0s 136ms/step\n",
      "1/1 [==============================] - 0s 141ms/step\n",
      "1/1 [==============================] - 0s 141ms/step\n",
      "1/1 [==============================] - 0s 145ms/step\n",
      "1/1 [==============================] - 0s 133ms/step\n",
      "1/1 [==============================] - 0s 138ms/step\n",
      "1/1 [==============================] - 0s 132ms/step\n",
      "1/1 [==============================] - 0s 141ms/step\n",
      "1/1 [==============================] - 0s 140ms/step\n",
      "1/1 [==============================] - 0s 144ms/step\n",
      "1/1 [==============================] - 0s 145ms/step\n",
      "1/1 [==============================] - 0s 134ms/step\n",
      "1/1 [==============================] - 0s 144ms/step\n",
      "1/1 [==============================] - 0s 132ms/step\n",
      "1/1 [==============================] - 0s 126ms/step\n",
      "1/1 [==============================] - 0s 126ms/step\n",
      "1/1 [==============================] - 0s 140ms/step\n",
      "1/1 [==============================] - 0s 146ms/step\n",
      "1/1 [==============================] - 0s 142ms/step\n",
      "1/1 [==============================] - 0s 144ms/step\n",
      "1/1 [==============================] - 0s 135ms/step\n",
      "1/1 [==============================] - 0s 136ms/step\n",
      "1/1 [==============================] - 0s 137ms/step\n",
      "1/1 [==============================] - 0s 133ms/step\n",
      "1/1 [==============================] - 0s 151ms/step\n",
      "1/1 [==============================] - 0s 133ms/step\n",
      "1/1 [==============================] - 0s 146ms/step\n",
      "1/1 [==============================] - 0s 135ms/step\n",
      "1/1 [==============================] - 0s 134ms/step\n",
      "1/1 [==============================] - 0s 135ms/step\n",
      "1/1 [==============================] - 0s 134ms/step\n",
      "1/1 [==============================] - 0s 125ms/step\n",
      "1/1 [==============================] - 0s 138ms/step\n",
      "1/1 [==============================] - 0s 136ms/step\n",
      "1/1 [==============================] - 0s 146ms/step\n",
      "1/1 [==============================] - 0s 130ms/step\n",
      "1/1 [==============================] - 0s 124ms/step\n",
      "1/1 [==============================] - 0s 144ms/step\n",
      "1/1 [==============================] - 0s 142ms/step\n",
      "1/1 [==============================] - 0s 136ms/step\n",
      "1/1 [==============================] - 0s 135ms/step\n",
      "1/1 [==============================] - 0s 133ms/step\n",
      "1/1 [==============================] - 0s 150ms/step\n",
      "1/1 [==============================] - 0s 126ms/step\n",
      "1/1 [==============================] - 0s 131ms/step\n",
      "1/1 [==============================] - 0s 143ms/step\n",
      "1/1 [==============================] - 0s 126ms/step\n",
      "1/1 [==============================] - 0s 141ms/step\n",
      "1/1 [==============================] - 0s 134ms/step\n",
      "1/1 [==============================] - 0s 127ms/step\n",
      "1/1 [==============================] - 0s 133ms/step\n",
      "1/1 [==============================] - 0s 135ms/step\n",
      "1/1 [==============================] - 0s 150ms/step\n",
      "1/1 [==============================] - 0s 124ms/step\n",
      "1/1 [==============================] - 0s 139ms/step\n",
      "1/1 [==============================] - 0s 136ms/step\n",
      "1/1 [==============================] - 0s 153ms/step\n",
      "1/1 [==============================] - 0s 157ms/step\n",
      "1/1 [==============================] - 0s 154ms/step\n",
      "1/1 [==============================] - 0s 137ms/step\n",
      "1/1 [==============================] - 0s 125ms/step\n",
      "1/1 [==============================] - 0s 131ms/step\n",
      "1/1 [==============================] - 0s 149ms/step\n",
      "1/1 [==============================] - 0s 132ms/step\n",
      "1/1 [==============================] - 0s 129ms/step\n",
      "1/1 [==============================] - 0s 123ms/step\n"
     ]
    }
   ],
   "source": [
    "demo2 = gr.Interface(predict_bulk,inputs=gr.Textbox(lines=2, placeholder=\"Path here\"),outputs=[\"text\", \"text\", \"text\",\"image\",\"image\"])\n",
    "demo2.launch(share=True)"
   ]
  },
  {
   "cell_type": "code",
   "execution_count": 112,
   "id": "0c24d400",
   "metadata": {},
   "outputs": [
    {
     "name": "stdout",
     "output_type": "stream",
     "text": [
      "dict_keys(['cardboard', 'paper', 'glass', 'plastic'])\n",
      "dict_values([4, 6, 14, 11])\n"
     ]
    }
   ],
   "source": [
    "from collections import Counter\n",
    "\n",
    "words = ['cardboard', 'cardboard', 'cardboard', 'paper', 'cardboard', 'glass', 'glass', 'glass', 'glass', 'glass', 'glass', 'glass', 'glass', 'glass', 'plastic', 'paper', 'paper', 'plastic', 'paper', 'paper', 'glass', 'plastic', 'plastic', 'plastic', 'glass', 'plastic', 'glass', 'glass', 'plastic', 'plastic', 'plastic', 'glass', 'plastic', 'plastic', 'paper']\n",
    "\n",
    "print(Counter(words).keys() )# equals to list(set(words))\n",
    "print(Counter(words).values()) # counts the elements' frequency"
   ]
  },
  {
   "cell_type": "code",
   "execution_count": null,
   "id": "8fb14615",
   "metadata": {},
   "outputs": [],
   "source": []
  }
 ],
 "metadata": {
  "kernelspec": {
   "display_name": "Python 3 (ipykernel)",
   "language": "python",
   "name": "python3"
  },
  "language_info": {
   "codemirror_mode": {
    "name": "ipython",
    "version": 3
   },
   "file_extension": ".py",
   "mimetype": "text/x-python",
   "name": "python",
   "nbconvert_exporter": "python",
   "pygments_lexer": "ipython3",
   "version": "3.8.5"
  }
 },
 "nbformat": 4,
 "nbformat_minor": 5
}
